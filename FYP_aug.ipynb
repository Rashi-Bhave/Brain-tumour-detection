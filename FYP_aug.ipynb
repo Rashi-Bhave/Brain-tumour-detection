{
 "cells": [
  {
   "cell_type": "code",
   "execution_count": 1,
   "id": "7bf0f387",
   "metadata": {},
   "outputs": [
    {
     "name": "stderr",
     "output_type": "stream",
     "text": [
      "2022-11-20 22:04:52.423488: I tensorflow/core/platform/cpu_feature_guard.cc:193] This TensorFlow binary is optimized with oneAPI Deep Neural Network Library (oneDNN) to use the following CPU instructions in performance-critical operations:  AVX2 FMA\n",
      "To enable them in other operations, rebuild TensorFlow with the appropriate compiler flags.\n"
     ]
    }
   ],
   "source": [
    "import numpy as np\n",
    "from numpy.random import seed\n",
    "seed(32412)\n",
    "import random\n",
    "from keras.layers import Input\n",
    "from keras.models import Model\n",
    "from keras.models import Sequential\n",
    "from keras.layers import Dense, Conv2D, MaxPooling2D, Dropout, Flatten\n",
    "from collections import Counter\n",
    "\n",
    "from FYP_processing2 import loadDatasetOne, loadDatasetTwo, resizeImages, augmentImages, rgb2Gray, rotateDatasetOne"
   ]
  },
  {
   "cell_type": "code",
   "execution_count": 2,
   "id": "6f9bd217",
   "metadata": {},
   "outputs": [
    {
     "name": "stderr",
     "output_type": "stream",
     "text": [
      "100%|████████████████████████████████████████| 826/826 [00:03<00:00, 261.26it/s]\n",
      "100%|████████████████████████████████████████| 395/395 [00:01<00:00, 276.28it/s]\n",
      "100%|████████████████████████████████████████| 822/822 [00:06<00:00, 136.81it/s]\n",
      "100%|████████████████████████████████████████| 827/827 [00:03<00:00, 210.70it/s]\n",
      "/Users/sumitkhare/FYP_processing2.py:56: VisibleDeprecationWarning: Creating an ndarray from ragged nested sequences (which is a list-or-tuple of lists-or-tuples-or ndarrays with different lengths or shapes) is deprecated. If you meant to do this, you must specify 'dtype=object' when creating the ndarray.\n",
      "  training_data = np.array(training_data)\n"
     ]
    }
   ],
   "source": [
    "imagesTwo, labelsTwo = loadDatasetTwo()"
   ]
  },
  {
   "cell_type": "code",
   "execution_count": 3,
   "id": "e721f822",
   "metadata": {},
   "outputs": [],
   "source": [
    "imagesTwo = resizeImages(imagesTwo, 2)"
   ]
  },
  {
   "cell_type": "code",
   "execution_count": 4,
   "id": "7fa9713e",
   "metadata": {},
   "outputs": [],
   "source": [
    "imagesOne, labelsOne = loadDatasetOne()"
   ]
  },
  {
   "cell_type": "code",
   "execution_count": 5,
   "id": "372906f6",
   "metadata": {},
   "outputs": [],
   "source": [
    "gliomaImages = []\n",
    "gliomaLabels = []\n",
    "\n",
    "meningiomaImages = []\n",
    "meningiomaLabels = []\n",
    "\n",
    "noneImages = []\n",
    "noneLabels = []\n",
    "\n",
    "pituitaryImages = []\n",
    "pituitaryLabels = []"
   ]
  },
  {
   "cell_type": "code",
   "execution_count": 6,
   "id": "ab916601",
   "metadata": {},
   "outputs": [],
   "source": [
    "for image, label in list(zip(imagesTwo, labelsTwo)):\n",
    "    if label == 'glioma_tumor':\n",
    "        gliomaImages.append(image)\n",
    "        gliomaLabels.append(label)\n",
    "        \n",
    "    if label == 'meningioma_tumor':\n",
    "        meningiomaImages.append(image)\n",
    "        meningiomaLabels.append(label)\n",
    "        \n",
    "    if label == 'no_tumor':\n",
    "        noneImages.append(image)\n",
    "        noneLabels.append(label)\n",
    "        \n",
    "    if label == 'pituitary_tumor':\n",
    "        pituitaryImages.append(image)\n",
    "        pituitaryLabels.append(label)\n",
    "        "
   ]
  },
  {
   "cell_type": "code",
   "execution_count": 7,
   "id": "789ea2d2",
   "metadata": {},
   "outputs": [
    {
     "name": "stdout",
     "output_type": "stream",
     "text": [
      "826 -- 822 -- 395 -- 827\n"
     ]
    }
   ],
   "source": [
    "print(f'{len(gliomaLabels)} -- {len(meningiomaLabels)} -- {len(noneLabels)} -- {len(pituitaryLabels)}')"
   ]
  },
  {
   "cell_type": "code",
   "execution_count": 8,
   "id": "0d4249fe",
   "metadata": {},
   "outputs": [],
   "source": [
    "noneAug1, noneAug1Lab = augmentImages(noneImages, noneLabels)\n",
    "noneAug2, noneAug2Lab = augmentImages(noneImages, noneLabels)\n",
    "noneAug3, noneAug3Lab = augmentImages(noneImages, noneLabels)\n",
    "noneAug4, noneAug4Lab = augmentImages(noneImages, noneLabels)\n",
    "noneAug5, noneAug5Lab = augmentImages(noneImages, noneLabels)"
   ]
  },
  {
   "cell_type": "code",
   "execution_count": 9,
   "id": "af2ace63",
   "metadata": {},
   "outputs": [],
   "source": [
    "noneImages = np.concatenate((noneImages, noneAug1, noneAug2, noneAug3, noneAug4, noneAug5))\n",
    "noneLabels = np.concatenate((noneLabels, noneAug1Lab, noneAug2Lab, noneAug3Lab, noneAug4Lab, noneAug5Lab ))"
   ]
  },
  {
   "cell_type": "code",
   "execution_count": 10,
   "id": "e809b18e",
   "metadata": {},
   "outputs": [],
   "source": [
    "gliomaAug, gliomaAugLab = augmentImages(gliomaImages, gliomaLabels)"
   ]
  },
  {
   "cell_type": "code",
   "execution_count": 11,
   "id": "0f1ffab1",
   "metadata": {},
   "outputs": [],
   "source": [
    "gliomaImages = np.concatenate((gliomaImages, gliomaAug))\n",
    "gliomaLabels = np.concatenate((gliomaLabels, gliomaAugLab))"
   ]
  },
  {
   "cell_type": "code",
   "execution_count": 12,
   "id": "8beed6ca",
   "metadata": {},
   "outputs": [],
   "source": [
    "meningiomaAug, meningiomaAugLabels = augmentImages(meningiomaImages, meningiomaLabels)"
   ]
  },
  {
   "cell_type": "code",
   "execution_count": 13,
   "id": "85886bb7",
   "metadata": {},
   "outputs": [],
   "source": [
    "meningiomaImages = np.concatenate((meningiomaImages, meningiomaAug))\n",
    "meningiomaLabels = np.concatenate((meningiomaLabels, meningiomaAugLabels))"
   ]
  },
  {
   "cell_type": "code",
   "execution_count": 14,
   "id": "2c8c8f04",
   "metadata": {},
   "outputs": [],
   "source": [
    "pituitaryImagesAug, pituitaryLabelsAug = augmentImages(pituitaryImages, pituitaryLabels)"
   ]
  },
  {
   "cell_type": "code",
   "execution_count": 15,
   "id": "34285465",
   "metadata": {},
   "outputs": [],
   "source": [
    "pituitaryImages = np.concatenate((pituitaryImages, pituitaryImagesAug))\n",
    "pituitaryLabels = np.concatenate((pituitaryLabels, pituitaryLabelsAug))"
   ]
  },
  {
   "cell_type": "code",
   "execution_count": 16,
   "id": "406ad943",
   "metadata": {},
   "outputs": [
    {
     "name": "stdout",
     "output_type": "stream",
     "text": [
      "Glioma: 1652 -- 1652\n",
      "Meningioma: 1644 -- 1644\n",
      "Pituitary: 1654 -- 1654\n",
      "None: 2370 -- 2370\n"
     ]
    }
   ],
   "source": [
    "print(f'Glioma: {len(gliomaImages)} -- {len(gliomaLabels)}')\n",
    "print(f'Meningioma: {len(meningiomaImages)} -- {len(meningiomaLabels)}')\n",
    "print(f'Pituitary: {len(pituitaryImages)} -- {len(pituitaryLabels)}')\n",
    "print(f'None: {len(noneImages)} -- {len(noneLabels)}')"
   ]
  },
  {
   "cell_type": "code",
   "execution_count": 17,
   "id": "2a64a01c",
   "metadata": {},
   "outputs": [],
   "source": [
    "datasetTwoImages = np.concatenate((gliomaImages, meningiomaImages, pituitaryImages, noneImages))\n",
    "datasetTwoLabels = np.concatenate((gliomaLabels, meningiomaLabels, pituitaryLabels, noneLabels))"
   ]
  },
  {
   "cell_type": "code",
   "execution_count": 18,
   "id": "7c3028b0",
   "metadata": {},
   "outputs": [],
   "source": [
    "datasetTwoImages = rgb2Gray(datasetTwoImages)"
   ]
  },
  {
   "cell_type": "code",
   "execution_count": 19,
   "id": "d48405fc",
   "metadata": {},
   "outputs": [],
   "source": [
    "ds2Images = []\n",
    "for i in datasetTwoImages:\n",
    "    ds2Images.append(i)"
   ]
  },
  {
   "cell_type": "code",
   "execution_count": 20,
   "id": "83ec642c",
   "metadata": {},
   "outputs": [],
   "source": [
    "datasetTwo = [ds2Images, datasetTwoLabels]"
   ]
  },
  {
   "cell_type": "code",
   "execution_count": 21,
   "id": "5c1060e9",
   "metadata": {},
   "outputs": [
    {
     "name": "stderr",
     "output_type": "stream",
     "text": [
      "/opt/anaconda3/lib/python3.7/site-packages/numpy/lib/npyio.py:528: VisibleDeprecationWarning: Creating an ndarray from ragged nested sequences (which is a list-or-tuple of lists-or-tuples-or ndarrays with different lengths or shapes) is deprecated. If you meant to do this, you must specify 'dtype=object' when creating the ndarray.\n",
      "  arr = np.asanyarray(arr)\n"
     ]
    }
   ],
   "source": [
    "#np.save('/Users/sumitkhare/datasetTwoNEW.npy', datasetTwo)"
   ]
  },
  {
   "cell_type": "code",
   "execution_count": 23,
   "id": "89f64aed",
   "metadata": {},
   "outputs": [],
   "source": [
    "#datasetTwoImages, datasetTwoLabels = np.load('/Users/sumitkhare/datasetTwo.npy', allow_pickle=True)"
   ]
  },
  {
   "cell_type": "code",
   "execution_count": 24,
   "id": "718fb300",
   "metadata": {},
   "outputs": [],
   "source": [
    "imagesOne = resizeImages(imagesOne, 1)"
   ]
  },
  {
   "cell_type": "code",
   "execution_count": 25,
   "id": "c5691276",
   "metadata": {},
   "outputs": [],
   "source": [
    "imagesOne, labelsOne = rotateDatasetOne(imagesOne, labelsOne)"
   ]
  },
  {
   "cell_type": "code",
   "execution_count": 26,
   "id": "b049a186",
   "metadata": {},
   "outputs": [],
   "source": [
    "ds1glioma = []\n",
    "ds1gliomalab = []\n",
    "\n",
    "ds1men = []\n",
    "ds1menlab = []\n",
    "\n",
    "ds1pit = []\n",
    "ds1pitlab = []\n",
    "\n",
    "for image, label in list(zip(imagesOne, labelsOne)):\n",
    "    \n",
    "    if label == 0:\n",
    "        ds1men.append(image)\n",
    "        ds1menlab.append(label)\n",
    "        \n",
    "    if label == 1:\n",
    "        ds1glioma.append(image)\n",
    "        ds1gliomalab.append(label)\n",
    "        \n",
    "    if label == 2:\n",
    "        ds1pit.append(image)\n",
    "        ds1pitlab.append(label)\n",
    "    "
   ]
  },
  {
   "cell_type": "code",
   "execution_count": 27,
   "id": "0ef029ea",
   "metadata": {},
   "outputs": [
    {
     "name": "stdout",
     "output_type": "stream",
     "text": [
      " men - 708 -- 708\n",
      " glio - 1426 -- 1426\n",
      " pt - 930 -- 930\n"
     ]
    }
   ],
   "source": [
    "print(f' men - {len(ds1men)} -- {len(ds1menlab)}')\n",
    "print(f' glio - {len(ds1glioma)} -- {len(ds1gliomalab)}')\n",
    "print(f' pt - {len(ds1pit)} -- {len(ds1pitlab)}')"
   ]
  },
  {
   "cell_type": "code",
   "execution_count": 28,
   "id": "e7270b85",
   "metadata": {},
   "outputs": [],
   "source": [
    "newGlio = []\n",
    "newGlioLab = []\n",
    "for i in range (0, 700):\n",
    "    newGlio.append(ds1glioma[i])\n",
    "    newGlioLab.append(ds1gliomalab[i])"
   ]
  },
  {
   "cell_type": "code",
   "execution_count": 29,
   "id": "37c8e056",
   "metadata": {},
   "outputs": [
    {
     "name": "stdout",
     "output_type": "stream",
     "text": [
      " pt - 700 -- 700\n"
     ]
    }
   ],
   "source": [
    "print(f' pt - {len(newGlio)} -- {len(newGlioLab)}')"
   ]
  },
  {
   "cell_type": "code",
   "execution_count": 30,
   "id": "92cea701",
   "metadata": {},
   "outputs": [
    {
     "data": {
      "text/plain": [
       "(256, 256, 1)"
      ]
     },
     "execution_count": 30,
     "metadata": {},
     "output_type": "execute_result"
    }
   ],
   "source": [
    "ds1pit[1].shape"
   ]
  },
  {
   "cell_type": "code",
   "execution_count": 31,
   "id": "4f6a6cce",
   "metadata": {},
   "outputs": [],
   "source": [
    "datasetOneImages = np.concatenate((newGlio, ds1men, ds1pit))\n",
    "datasetOneLabels = np.concatenate((newGlioLab, ds1menlab, ds1pitlab))"
   ]
  },
  {
   "cell_type": "code",
   "execution_count": 32,
   "id": "f6f3d8e0",
   "metadata": {},
   "outputs": [
    {
     "data": {
      "text/plain": [
       "(2338, 256, 256, 1)"
      ]
     },
     "execution_count": 32,
     "metadata": {},
     "output_type": "execute_result"
    }
   ],
   "source": [
    "datasetOneImages.shape"
   ]
  },
  {
   "cell_type": "code",
   "execution_count": 33,
   "id": "9068ace7",
   "metadata": {},
   "outputs": [],
   "source": [
    "datasetOneImagesAugmented, datasetOneLabelsAugmented = augmentImages(datasetOneImages, datasetOneLabels)"
   ]
  },
  {
   "cell_type": "code",
   "execution_count": 34,
   "id": "2e3b911b",
   "metadata": {},
   "outputs": [],
   "source": [
    "datasetOneImages = np.concatenate((datasetOneImages, datasetOneImagesAugmented))\n",
    "datasetOneLabels = np.concatenate((datasetOneLabels, datasetOneLabelsAugmented))"
   ]
  },
  {
   "cell_type": "code",
   "execution_count": 35,
   "id": "9387c08a",
   "metadata": {},
   "outputs": [
    {
     "data": {
      "text/plain": [
       "4676"
      ]
     },
     "execution_count": 35,
     "metadata": {},
     "output_type": "execute_result"
    }
   ],
   "source": [
    "ds1images = []\n",
    "for i in datasetOneImages:\n",
    "    ds1images.append(i)\n",
    "len(ds1images)"
   ]
  },
  {
   "cell_type": "code",
   "execution_count": 36,
   "id": "2d3fae60",
   "metadata": {},
   "outputs": [],
   "source": [
    "datasetOne = [ds1images, datasetOneLabels]"
   ]
  },
  {
   "cell_type": "code",
   "execution_count": 37,
   "id": "366e4d99",
   "metadata": {},
   "outputs": [],
   "source": [
    "#np.save('/Users/sumitkhare/datasetOneNEW.npy', datasetOne)"
   ]
  },
  {
   "cell_type": "code",
   "execution_count": null,
   "id": "6eaa1da0",
   "metadata": {},
   "outputs": [],
   "source": []
  }
 ],
 "metadata": {
  "kernelspec": {
   "display_name": "Python 3 (ipykernel)",
   "language": "python",
   "name": "python3"
  },
  "language_info": {
   "codemirror_mode": {
    "name": "ipython",
    "version": 3
   },
   "file_extension": ".py",
   "mimetype": "text/x-python",
   "name": "python",
   "nbconvert_exporter": "python",
   "pygments_lexer": "ipython3",
   "version": "3.7.13"
  }
 },
 "nbformat": 4,
 "nbformat_minor": 5
}
